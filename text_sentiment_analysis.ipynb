{
 "cells": [
  {
   "cell_type": "code",
   "execution_count": 42,
   "metadata": {
    "id": "5Pp7CaIPGcj5"
   },
   "outputs": [],
   "source": [
    "import pandas as pd\n",
    "import numpy as np\n",
    "import matplotlib.pyplot as plt\n",
    "import seaborn as sns\n",
    "\n",
    "# Natural language processing libraries to prepare data\n",
    "import nltk\n",
    "from nltk.corpus import stopwords\n",
    "from nltk.tokenize import word_tokenize\n",
    "from gensim.utils import simple_preprocess\n",
    "\n",
    "# Scikit-learn to prepare training/testing data and visulisation \n",
    "from sklearn.model_selection import train_test_split\n",
    "from sklearn.metrics import accuracy_score\n",
    "from sklearn.metrics import confusion_matrix\n",
    "\n",
    "# TensorFlow to build model \n",
    "import tensorflow as tf\n",
    "from tensorflow.keras.preprocessing.sequence import pad_sequences\n",
    "from tensorflow.keras.models import Sequential\n",
    "from tensorflow.keras.layers import Dense, Flatten, Embedding, Input, LSTM, Conv1D, MaxPool1D, Bidirectional, Dropout\n",
    "from tensorflow.keras.models import Model\n",
    "from tensorflow.keras.utils import to_categorical"
   ]
  },
  {
   "cell_type": "markdown",
   "metadata": {},
   "source": [
    "## Text Sentiment Analysis Using Natural Language Processing \n",
    "\n",
    "- Classification technique used to analyse text and categorise into classes, e.g positive, neutral or negative\n",
    "- Process involves breaking data (text) down into components for example sentences or words\n",
    "- Then assign each component a value to indicate sentiment"
   ]
  },
  {
   "cell_type": "markdown",
   "metadata": {},
   "source": [
    "## Preparing Data\n",
    "\n",
    "- We need to process and choose how to compartmentalise our data\n",
    "- There are many options from sentences to words or buzzwords which may change the accuracy of the model\n",
    "- In our analysis we define buzzwords as a class of words that our meaningful, e.g words with length greater than 2 or words that for example aren't pronouns or articles\n",
    "- We use NLTK's list of 'Stopwords' and filter through to make a class of our own buzzwords\n",
    "- Then will create an array of buzzwords that appear in each slice of data"
   ]
  },
  {
   "cell_type": "code",
   "execution_count": 43,
   "metadata": {
    "colab": {
     "base_uri": "https://localhost:8080/"
    },
    "id": "kUNkPmpCI0jC",
    "outputId": "93c1cba7-eb07-45ca-ddc2-615dba0e1c36"
   },
   "outputs": [
    {
     "name": "stderr",
     "output_type": "stream",
     "text": [
      "[nltk_data] Downloading package stopwords to /root/nltk_data...\n",
      "[nltk_data]   Package stopwords is already up-to-date!\n"
     ]
    }
   ],
   "source": [
    "nltk.download(\"stopwords\")\n",
    "stopwords = stopwords.words('english')"
   ]
  },
  {
   "cell_type": "code",
   "execution_count": 44,
   "metadata": {
    "id": "ystpZjFwGrhY"
   },
   "outputs": [],
   "source": [
    "# Step 1: process data\n",
    "def text_processing(df):\n",
    "\n",
    "    # Remove punctuation\n",
    "    def remove_punc(text):\n",
    "        return text.translate(str.maketrans('', '', string.punctuation))\n",
    "  \n",
    "    # Update data\n",
    "    df['Text Without Punctuation'] = df['Text'].apply(remove_punc)\n",
    "\n",
    "    # Filter out stopwords\n",
    "    def preprocess(text):\n",
    "    \n",
    "    final = []\n",
    "    for token in gensim.utils.simple_preprocess(text):\n",
    "        if len(token) > 2 and token not in stopwords:\n",
    "        final.append(token)\n",
    "    return final\n",
    "\n",
    "    # Update data\n",
    "    df['Text Without Punctuation and Stopwords'] = df['Text Without Punctuation'].apply(preprocess)\n",
    "    \n",
    "    return df"
   ]
  },
  {
   "cell_type": "markdown",
   "metadata": {},
   "source": [
    "## Model Training & Testing\n",
    "- First we will prepare our dataframe\n",
    "- Then choose the proportion of data to train\n",
    "- Then create our recurrent neural network\n",
    "- Then visualise the result of our model"
   ]
  },
  {
   "cell_type": "code",
   "execution_count": 45,
   "metadata": {
    "id": "MBXs-fMiKngH"
   },
   "outputs": [],
   "source": [
    "def sentiment_analysis(df):\n",
    "    \n",
    "    df = text_processing(df)\n",
    "\n",
    "    # Get list and number of words in data\n",
    "    words_list = []\n",
    "    for words in df['Text Without Punctuation and Stopwords']:\n",
    "        for word in words:\n",
    "            words_list.append(word)\n",
    "    \n",
    "    num_words = len(set(words_list))\n",
    "    \n",
    "    X = df['Text Without Punctuation and Stopwords']\n",
    "    y = df['Sentiment']\n",
    "\n",
    "    # Step 2: tokenizing and padding\n",
    "\n",
    "    # Choose proportion of data to train and test\n",
    "    X_train, X_test, y_train, y_test = train_test_split(X, y, test_size = 0.1)\n",
    "\n",
    "    # Tokenize words\n",
    "    tokenizer = Tokenizer(num_words)\n",
    "    tokenizer.fit_on_texts(X_train)\n",
    "  \n",
    "    train_sequences = tokenizer.texts_to_sequences(X_train)\n",
    "    test_sequences = tokenizer.texts_to_sequences(X_test)\n",
    "\n",
    "    # Padding\n",
    "    padded_train = pad_sequences(train_sequences, maxlen = 29, padding = 'post', truncating = 'post')\n",
    "    padded_test = pad_sequences(test_sequences, maxlen = 29, truncating = 'post')\n",
    "\n",
    "    # Categorical 2D representation \n",
    "    cat_y_train = to_categorical(y_train, 2)\n",
    "    cat_y_test = to_categorical(y_test, 2)\n",
    "\n",
    "    # Sequential Model\n",
    "    model = Sequential()\n",
    "\n",
    "    # Embedding layer\n",
    "    model.add(Embedding(num_words, output_dim = 512))\n",
    "\n",
    "    model.add(LSTM(256))\n",
    "\n",
    "    # Dense layers\n",
    "    model.add(Dense(128, activation = 'relu'))\n",
    "    model.add(Dropout(0.3))\n",
    "    model.add(Dense(2, activation = 'softmax'))\n",
    "    model.compile(optimizer = 'adam', loss = 'categorical_crossentropy', metrics = ['acc'])\n",
    "\n",
    "    # Step 3: train the model\n",
    "    model.fit(padded_train, cat_y_train, batch_size = 32, validation_split = 0.2, epochs = 1)\n",
    "\n",
    "    # Step 4: test the model\n",
    "    predicted = model.predict(padded_test)\n",
    "\n",
    "    prediction = []\n",
    "    for i in predicted:\n",
    "        prediction.append(np.argmax(i))\n",
    "\n",
    "    original = []\n",
    "    for i in cat_y_test:\n",
    "        original.append(np.argmax(i))\n",
    "\n",
    "    # Step 5: analysis of the model\n",
    "    accuracy = accuracy_score(original, prediction)\n",
    "  \n",
    "    sns.heatmap(confusion_matrix(original, prediction), annot = True)\n",
    "\n",
    "    return print(\"The model has an accuracy of:\", accuracy), sns.heatmap(confusion_matrix(original, prediction), annot = True)"
   ]
  }
 ],
 "metadata": {
  "colab": {
   "collapsed_sections": [],
   "provenance": []
  },
  "kernelspec": {
   "display_name": "Python 3",
   "language": "python",
   "name": "python3"
  },
  "language_info": {
   "codemirror_mode": {
    "name": "ipython",
    "version": 3
   },
   "file_extension": ".py",
   "mimetype": "text/x-python",
   "name": "python",
   "nbconvert_exporter": "python",
   "pygments_lexer": "ipython3",
   "version": "3.8.3"
  }
 },
 "nbformat": 4,
 "nbformat_minor": 1
}
